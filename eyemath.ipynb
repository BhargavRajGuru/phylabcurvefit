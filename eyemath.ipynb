{
 "cells": [
  {
   "cell_type": "code",
   "execution_count": null,
   "metadata": {},
   "outputs": [],
   "source": [
    "from pylab import *\n",
    "import eyemath17 as em\n",
    "\n",
    "NP=50\n",
    "\n",
    "r=2*ranf(NP)-1\n",
    "\n",
    "print(r)\n",
    "\n",
    "x=linspace(0,10,NP)\n",
    "data=(2+r)+3*x\n",
    "\n",
    "y,par=em.fit_line(x,data)\n",
    "\n",
    "print(par)\n",
    "\n",
    "plot(x,data,'ob')\n",
    "plot(x,y)"
   ]
  }
 ],
 "metadata": {
  "language_info": {
   "name": "python"
  },
  "orig_nbformat": 4
 },
 "nbformat": 4,
 "nbformat_minor": 2
}
