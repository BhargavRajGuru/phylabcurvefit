{
 "cells": [
  {
   "cell_type": "code",
   "execution_count": null,
   "metadata": {},
   "outputs": [],
   "source": [
    "import numpy as np"
   ]
  },
  {
   "cell_type": "code",
   "execution_count": null,
   "metadata": {},
   "outputs": [],
   "source": [
    "file_folder=r\"D:\\pythoncode\\programs\\phylabcurvefit\\phylabfit\\\\\"\n",
    "file_name=r\"Sample Diode I-V Data.csv\"\n",
    "\n",
    "data_file=file_folder+file_name\n",
    "\n",
    "print(data_file)\n",
    "\n",
    "f1=np.loadtxt(data_file, delimiter = ',', skiprows = 2, unpack = True)\n",
    "\n"
   ]
  }
 ],
 "metadata": {
  "kernelspec": {
   "display_name": "Python 3 (ipykernel)",
   "language": "python",
   "name": "python3"
  },
  "language_info": {
   "codemirror_mode": {
    "name": "ipython",
    "version": 3
   },
   "file_extension": ".py",
   "mimetype": "text/x-python",
   "name": "python",
   "nbconvert_exporter": "python",
   "pygments_lexer": "ipython3",
   "version": "3.10.8"
  }
 },
 "nbformat": 4,
 "nbformat_minor": 2
}
