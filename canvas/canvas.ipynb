{
 "cells": [
  {
   "cell_type": "code",
   "execution_count": 16,
   "metadata": {},
   "outputs": [],
   "source": [
    "import numpy as np"
   ]
  },
  {
   "cell_type": "code",
   "execution_count": 11,
   "metadata": {},
   "outputs": [],
   "source": [
    "file_folder=r\"/workspaces/phylabcurvefit/canvas/\"\n",
    "file_name=r\"Sample Diode I-V Data.csv\"\n",
    "\n",
    "data_file=file_folder+file_name\n",
    "\n",
    "# print(data_file)\n",
    "\n",
    "f1=np.loadtxt(data_file, delimiter = ',', skiprows = 2, unpack = True)"
   ]
  },
  {
   "cell_type": "code",
   "execution_count": 22,
   "metadata": {},
   "outputs": [
    {
     "name": "stdout",
     "output_type": "stream",
     "text": [
      "[-3.         -2.30103    -2.         -1.69897    -1.30103    -1.\n",
      " -0.69897    -0.30103     0.          0.30103     0.69897     1.\n",
      "  1.14612804]\n"
     ]
    }
   ],
   "source": [
    "f0=f1[0]\n",
    "x=np.log10(f0[1:])\n",
    "print(x)"
   ]
  }
 ],
 "metadata": {
  "kernelspec": {
   "display_name": "Python 3",
   "language": "python",
   "name": "python3"
  },
  "language_info": {
   "codemirror_mode": {
    "name": "ipython",
    "version": 3
   },
   "file_extension": ".py",
   "mimetype": "text/x-python",
   "name": "python",
   "nbconvert_exporter": "python",
   "pygments_lexer": "ipython3",
   "version": "3.10.8"
  },
  "orig_nbformat": 4
 },
 "nbformat": 4,
 "nbformat_minor": 2
}
